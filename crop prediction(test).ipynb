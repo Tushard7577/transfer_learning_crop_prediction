{
 "cells": [
  {
   "cell_type": "code",
   "execution_count": 7,
   "id": "f6d6e094",
   "metadata": {
    "scrolled": true
   },
   "outputs": [],
   "source": [
    "from tensorflow.keras.models import load_model"
   ]
  },
  {
   "cell_type": "markdown",
   "id": "d405cc98",
   "metadata": {},
   "source": [
    "# VGG16"
   ]
  },
  {
   "cell_type": "code",
   "execution_count": 19,
   "id": "a019a727",
   "metadata": {},
   "outputs": [],
   "source": [
    "model = load_model('crop_prediction_vgg161.h5')"
   ]
  },
  {
   "cell_type": "code",
   "execution_count": 20,
   "id": "5743c253",
   "metadata": {},
   "outputs": [],
   "source": [
    "import cv2 \n",
    "def get_crop(path):\n",
    "    A = cv2.imread(path) # color\n",
    "    A = cv2.resize(A,(224,224))\n",
    "    A = A/255\n",
    "    A = A.reshape(1,224,224,3)\n",
    "    return model.predict_on_batch(A).argmax() "
   ]
  },
  {
   "cell_type": "code",
   "execution_count": 21,
   "id": "7930c262",
   "metadata": {},
   "outputs": [
    {
     "name": "stdout",
     "output_type": "stream",
     "text": [
      "../../datasets/crop pre/jute003.jpg\n",
      "../../datasets/crop pre/jute008a.jpg\n",
      "../../datasets/crop pre/maize images.jfif\n",
      "../../datasets/crop pre/maize-Field-Corn.jpg\n",
      "../../datasets/crop pre/maize0.jpg\n",
      "../../datasets/crop pre/rice-field01.jpg\n",
      "../../datasets/crop pre/rice.jpg\n",
      "../../datasets/crop pre/sugarcane fields.jpg\n",
      "../../datasets/crop pre/wheat.jpg\n",
      "../../datasets/crop pre/wheat004a.jpeg\n"
     ]
    }
   ],
   "source": [
    "import os\n",
    "for img in os.listdir('../../datasets/crop pre/'):\n",
    "    print('../../datasets/crop pre/'+img)"
   ]
  },
  {
   "cell_type": "code",
   "execution_count": 22,
   "id": "734ebacc",
   "metadata": {},
   "outputs": [
    {
     "name": "stdout",
     "output_type": "stream",
     "text": [
      "jute003.jpg \t 0\n",
      "jute008a.jpg \t 0\n",
      "maize images.jfif \t 1\n",
      "maize-Field-Corn.jpg \t 2\n",
      "maize0.jpg \t 1\n",
      "rice-field01.jpg \t 0\n",
      "rice.jpg \t 3\n",
      "sugarcane fields.jpg \t 1\n",
      "wheat.jpg \t 2\n",
      "wheat004a.jpeg \t 1\n"
     ]
    }
   ],
   "source": [
    "for img in os.listdir('../../datasets/crop pre/'):\n",
    "    y = get_crop('../../datasets/crop pre/'+img)\n",
    "    print(img,'\\t',y)\n",
    "#{'jute': 0, 'maize': 1, 'rice': 2, 'sugarcane': 3, 'wheat': 4}"
   ]
  },
  {
   "cell_type": "markdown",
   "id": "004fb5e5",
   "metadata": {},
   "source": [
    "# Resnet"
   ]
  },
  {
   "cell_type": "code",
   "execution_count": 25,
   "id": "8dcf2d8b",
   "metadata": {},
   "outputs": [],
   "source": [
    "modelrn = load_model('crop_prediction_resnet1.h5')"
   ]
  },
  {
   "cell_type": "code",
   "execution_count": 26,
   "id": "731b59dd",
   "metadata": {},
   "outputs": [],
   "source": [
    "import cv2 \n",
    "def get_croprn(path):\n",
    "    A = cv2.imread(path) # color\n",
    "    A = cv2.resize(A,(224,224))\n",
    "    A = A/255\n",
    "    A = A.reshape(1,224,224,3)\n",
    "    return modelrn.predict_on_batch(A).argmax() "
   ]
  },
  {
   "cell_type": "code",
   "execution_count": 27,
   "id": "b271b88f",
   "metadata": {},
   "outputs": [
    {
     "name": "stdout",
     "output_type": "stream",
     "text": [
      "jute003.jpg \t 1\n",
      "jute008a.jpg \t 1\n",
      "maize images.jfif \t 1\n",
      "maize-Field-Corn.jpg \t 1\n",
      "maize0.jpg \t 1\n",
      "rice-field01.jpg \t 1\n",
      "rice.jpg \t 1\n",
      "sugarcane fields.jpg \t 1\n",
      "wheat.jpg \t 1\n",
      "wheat004a.jpeg \t 1\n"
     ]
    }
   ],
   "source": [
    "for img in os.listdir('../../datasets/crop pre/'):\n",
    "    y = get_croprn('../../datasets/crop pre/'+img)\n",
    "    print(img,'\\t',y)\n",
    "#{'jute': 0, 'maize': 1, 'rice': 2, 'sugarcane': 3, 'wheat': 4}"
   ]
  },
  {
   "cell_type": "markdown",
   "id": "139a227d",
   "metadata": {},
   "source": [
    "# Inception"
   ]
  },
  {
   "cell_type": "code",
   "execution_count": 23,
   "id": "b2c68e84",
   "metadata": {},
   "outputs": [],
   "source": [
    "modelinc = load_model('crop_prediction_inc1.h5')\n",
    "import cv2 \n",
    "def get_cropinc(path):\n",
    "    A = cv2.imread(path) # color\n",
    "    A = cv2.resize(A,(224,224))\n",
    "    A = A/255\n",
    "    A = A.reshape(1,224,224,3)\n",
    "    return modelinc.predict_on_batch(A).argmax() \n"
   ]
  },
  {
   "cell_type": "code",
   "execution_count": 28,
   "id": "c3497849",
   "metadata": {},
   "outputs": [
    {
     "name": "stdout",
     "output_type": "stream",
     "text": [
      "jute003.jpg \t 2\n",
      "jute008a.jpg \t 0\n",
      "maize images.jfif \t 1\n",
      "maize-Field-Corn.jpg \t 1\n",
      "maize0.jpg \t 1\n",
      "rice-field01.jpg \t 3\n",
      "rice.jpg \t 1\n",
      "sugarcane fields.jpg \t 1\n",
      "wheat.jpg \t 4\n",
      "wheat004a.jpeg \t 1\n"
     ]
    }
   ],
   "source": [
    "for img in os.listdir('../../datasets/crop pre/'):\n",
    "    y = get_cropinc('../../datasets/crop pre/'+img)\n",
    "    print(img,'\\t',y)\n",
    "#{'jute': 0, 'maize': 1, 'rice': 2, 'sugarcane': 3, 'wheat': 4}"
   ]
  },
  {
   "cell_type": "code",
   "execution_count": null,
   "id": "718d165f",
   "metadata": {},
   "outputs": [],
   "source": []
  }
 ],
 "metadata": {
  "kernelspec": {
   "display_name": "Python 3 (ipykernel)",
   "language": "python",
   "name": "python3"
  },
  "language_info": {
   "codemirror_mode": {
    "name": "ipython",
    "version": 3
   },
   "file_extension": ".py",
   "mimetype": "text/x-python",
   "name": "python",
   "nbconvert_exporter": "python",
   "pygments_lexer": "ipython3",
   "version": "3.11.5"
  }
 },
 "nbformat": 4,
 "nbformat_minor": 5
}
