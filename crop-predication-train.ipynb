{
 "cells": [
  {
   "cell_type": "code",
   "execution_count": 1,
   "metadata": {
    "_cell_guid": "b1076dfc-b9ad-4769-8c92-a6c4dae69d19",
    "_uuid": "8f2839f25d086af736a60e9eeb907d3b93b6e0e5",
    "execution": {
     "iopub.execute_input": "2023-10-27T09:50:13.388795Z",
     "iopub.status.busy": "2023-10-27T09:50:13.388498Z",
     "iopub.status.idle": "2023-10-27T09:50:13.719389Z",
     "shell.execute_reply": "2023-10-27T09:50:13.718584Z",
     "shell.execute_reply.started": "2023-10-27T09:50:13.388759Z"
    }
   },
   "outputs": [],
   "source": [
    "# This Python 3 environment comes with many helpful analytics libraries installed\n",
    "# It is defined by the kaggle/python Docker image: https://github.com/kaggle/docker-python\n",
    "# For example, here's several helpful packages to load\n",
    "\n",
    "import numpy as np # linear algebra\n",
    "import pandas as pd # data processing, CSV file I/O (e.g. pd.read_csv)\n",
    "\n",
    "# Input data files are available in the read-only \"../input/\" directory\n",
    "# For example, running this (by clicking run or pressing Shift+Enter) will list all files under the input directory\n",
    "\n",
    "import os\n",
    "#\n",
    "\n",
    "# You can write up to 20GB to the current directory (/kaggle/working/) that gets preserved as output when you create a version using \"Save & Run All\" \n",
    "# You can also write temporary files to /kaggle/temp/, but they won't be saved outside of the current session"
   ]
  },
  {
   "cell_type": "code",
   "execution_count": 37,
   "metadata": {
    "execution": {
     "iopub.execute_input": "2023-10-27T11:23:39.586851Z",
     "iopub.status.busy": "2023-10-27T11:23:39.586040Z",
     "iopub.status.idle": "2023-10-27T11:23:39.591345Z",
     "shell.execute_reply": "2023-10-27T11:23:39.590395Z",
     "shell.execute_reply.started": "2023-10-27T11:23:39.586813Z"
    }
   },
   "outputs": [],
   "source": [
    "path='/kaggle/input/agriculture-crop-images/crop_images'\n",
    "path2='/kaggle/input/agriculture-crop-images/kag2'"
   ]
  },
  {
   "cell_type": "code",
   "execution_count": 18,
   "metadata": {
    "execution": {
     "iopub.execute_input": "2023-10-27T10:38:36.683267Z",
     "iopub.status.busy": "2023-10-27T10:38:36.682359Z",
     "iopub.status.idle": "2023-10-27T10:38:36.687483Z",
     "shell.execute_reply": "2023-10-27T10:38:36.686523Z",
     "shell.execute_reply.started": "2023-10-27T10:38:36.683231Z"
    }
   },
   "outputs": [],
   "source": [
    "from tensorflow.keras.preprocessing.image import ImageDataGenerator\n"
   ]
  },
  {
   "cell_type": "code",
   "execution_count": 19,
   "metadata": {
    "execution": {
     "iopub.execute_input": "2023-10-27T10:38:42.160242Z",
     "iopub.status.busy": "2023-10-27T10:38:42.159862Z",
     "iopub.status.idle": "2023-10-27T10:38:42.165172Z",
     "shell.execute_reply": "2023-10-27T10:38:42.163981Z",
     "shell.execute_reply.started": "2023-10-27T10:38:42.160210Z"
    }
   },
   "outputs": [],
   "source": [
    "data_gen = ImageDataGenerator(zoom_range=0.2,rotation_range=0.2,horizontal_flip=True,rescale=1/255)"
   ]
  },
  {
   "cell_type": "code",
   "execution_count": 20,
   "metadata": {
    "execution": {
     "iopub.execute_input": "2023-10-27T10:38:47.550575Z",
     "iopub.status.busy": "2023-10-27T10:38:47.549704Z",
     "iopub.status.idle": "2023-10-27T10:38:47.573289Z",
     "shell.execute_reply": "2023-10-27T10:38:47.572537Z",
     "shell.execute_reply.started": "2023-10-27T10:38:47.550540Z"
    }
   },
   "outputs": [
    {
     "name": "stdout",
     "output_type": "stream",
     "text": [
      "Found 201 images belonging to 5 classes.\n"
     ]
    }
   ],
   "source": [
    "train_data = data_gen.flow_from_directory(path,target_size=(224,224),batch_size=64)"
   ]
  },
  {
   "cell_type": "code",
   "execution_count": 38,
   "metadata": {
    "execution": {
     "iopub.execute_input": "2023-10-27T11:24:00.511590Z",
     "iopub.status.busy": "2023-10-27T11:24:00.510857Z",
     "iopub.status.idle": "2023-10-27T11:24:00.630192Z",
     "shell.execute_reply": "2023-10-27T11:24:00.629299Z",
     "shell.execute_reply.started": "2023-10-27T11:24:00.511558Z"
    }
   },
   "outputs": [
    {
     "name": "stdout",
     "output_type": "stream",
     "text": [
      "Found 804 images belonging to 5 classes.\n"
     ]
    }
   ],
   "source": [
    "train_data2 = data_gen.flow_from_directory(path2,target_size=(224,224),batch_size=64)"
   ]
  },
  {
   "cell_type": "code",
   "execution_count": 28,
   "metadata": {
    "execution": {
     "iopub.execute_input": "2023-10-27T10:54:08.313821Z",
     "iopub.status.busy": "2023-10-27T10:54:08.313463Z",
     "iopub.status.idle": "2023-10-27T10:54:08.319045Z",
     "shell.execute_reply": "2023-10-27T10:54:08.318114Z",
     "shell.execute_reply.started": "2023-10-27T10:54:08.313793Z"
    }
   },
   "outputs": [],
   "source": [
    "# Model Building \n",
    "from tensorflow.keras.models import Model\n",
    "from tensorflow.keras.layers import Conv2D,MaxPool2D,Flatten,Dense\n",
    "from tensorflow.keras.applications import VGG16\n",
    "from tensorflow.keras.applications.resnet import ResNet50\n",
    "from tensorflow.keras.applications import InceptionV3"
   ]
  },
  {
   "cell_type": "markdown",
   "metadata": {},
   "source": [
    "# VGG16"
   ]
  },
  {
   "cell_type": "code",
   "execution_count": 34,
   "metadata": {
    "execution": {
     "iopub.execute_input": "2023-10-27T11:00:17.493279Z",
     "iopub.status.busy": "2023-10-27T11:00:17.492379Z",
     "iopub.status.idle": "2023-10-27T11:00:17.852985Z",
     "shell.execute_reply": "2023-10-27T11:00:17.852142Z",
     "shell.execute_reply.started": "2023-10-27T11:00:17.493244Z"
    }
   },
   "outputs": [],
   "source": [
    "#VGG16\n",
    "vgg16=VGG16(include_top=False,input_shape=(224,224,3),)\n",
    "for layer in vgg16.layers:\n",
    "    layer.trainable=False\n",
    "final_layer=Dense(5,activation='softmax')(Flatten()(vgg16.output))"
   ]
  },
  {
   "cell_type": "code",
   "execution_count": 13,
   "metadata": {
    "execution": {
     "iopub.execute_input": "2023-10-27T10:00:52.442877Z",
     "iopub.status.busy": "2023-10-27T10:00:52.441861Z",
     "iopub.status.idle": "2023-10-27T10:00:52.466548Z",
     "shell.execute_reply": "2023-10-27T10:00:52.465540Z",
     "shell.execute_reply.started": "2023-10-27T10:00:52.442761Z"
    }
   },
   "outputs": [],
   "source": [
    "model=Model(inputs=vgg16.input,outputs=final_layer)\n",
    "model.compile(loss='categorical_crossentropy',metrics=['accuracy'])"
   ]
  },
  {
   "cell_type": "code",
   "execution_count": 35,
   "metadata": {
    "execution": {
     "iopub.execute_input": "2023-10-27T11:05:51.515994Z",
     "iopub.status.busy": "2023-10-27T11:05:51.515210Z",
     "iopub.status.idle": "2023-10-27T11:06:09.020105Z",
     "shell.execute_reply": "2023-10-27T11:06:09.019298Z",
     "shell.execute_reply.started": "2023-10-27T11:05:51.515956Z"
    }
   },
   "outputs": [
    {
     "name": "stdout",
     "output_type": "stream",
     "text": [
      "Epoch 1/5\n",
      "4/4 [==============================] - 3s 724ms/step - loss: 1.3492 - accuracy: 0.5224\n",
      "Epoch 2/5\n",
      "4/4 [==============================] - 3s 700ms/step - loss: 1.1299 - accuracy: 0.6169\n",
      "Epoch 3/5\n",
      "4/4 [==============================] - 3s 725ms/step - loss: 0.9835 - accuracy: 0.6667\n",
      "Epoch 4/5\n",
      "4/4 [==============================] - 3s 718ms/step - loss: 1.0151 - accuracy: 0.6318\n",
      "Epoch 5/5\n",
      "4/4 [==============================] - 3s 642ms/step - loss: 0.9761 - accuracy: 0.6517\n"
     ]
    },
    {
     "data": {
      "text/plain": [
       "<keras.callbacks.History at 0x793854f6ef20>"
      ]
     },
     "execution_count": 35,
     "metadata": {},
     "output_type": "execute_result"
    }
   ],
   "source": [
    "model.fit(train_data,epochs=5)"
   ]
  },
  {
   "cell_type": "code",
   "execution_count": 39,
   "metadata": {
    "execution": {
     "iopub.execute_input": "2023-10-27T11:24:34.577475Z",
     "iopub.status.busy": "2023-10-27T11:24:34.576727Z",
     "iopub.status.idle": "2023-10-27T11:29:06.488115Z",
     "shell.execute_reply": "2023-10-27T11:29:06.487040Z",
     "shell.execute_reply.started": "2023-10-27T11:24:34.577433Z"
    }
   },
   "outputs": [
    {
     "name": "stdout",
     "output_type": "stream",
     "text": [
      "Epoch 1/20\n",
      "13/13 [==============================] - 19s 1s/step - loss: 0.7934 - accuracy: 0.6965\n",
      "Epoch 2/20\n",
      "13/13 [==============================] - 13s 943ms/step - loss: 0.6000 - accuracy: 0.7923\n",
      "Epoch 3/20\n",
      "13/13 [==============================] - 13s 957ms/step - loss: 0.6412 - accuracy: 0.8072\n",
      "Epoch 4/20\n",
      "13/13 [==============================] - 13s 947ms/step - loss: 0.3554 - accuracy: 0.8794\n",
      "Epoch 5/20\n",
      "13/13 [==============================] - 13s 989ms/step - loss: 0.4010 - accuracy: 0.8545\n",
      "Epoch 6/20\n",
      "13/13 [==============================] - 13s 961ms/step - loss: 0.3531 - accuracy: 0.8806\n",
      "Epoch 7/20\n",
      "13/13 [==============================] - 13s 959ms/step - loss: 0.4118 - accuracy: 0.8483\n",
      "Epoch 8/20\n",
      "13/13 [==============================] - 12s 972ms/step - loss: 0.1287 - accuracy: 0.9789\n",
      "Epoch 9/20\n",
      "13/13 [==============================] - 13s 972ms/step - loss: 0.4584 - accuracy: 0.8657\n",
      "Epoch 10/20\n",
      "13/13 [==============================] - 13s 953ms/step - loss: 0.0965 - accuracy: 0.9888\n",
      "Epoch 11/20\n",
      "13/13 [==============================] - 14s 1s/step - loss: 0.3181 - accuracy: 0.9005\n",
      "Epoch 12/20\n",
      "13/13 [==============================] - 13s 983ms/step - loss: 0.0783 - accuracy: 0.9925\n",
      "Epoch 13/20\n",
      "13/13 [==============================] - 13s 999ms/step - loss: 0.2534 - accuracy: 0.9241\n",
      "Epoch 14/20\n",
      "13/13 [==============================] - 13s 997ms/step - loss: 0.1185 - accuracy: 0.9652\n",
      "Epoch 15/20\n",
      "13/13 [==============================] - 13s 1s/step - loss: 0.3496 - accuracy: 0.9017\n",
      "Epoch 16/20\n",
      "13/13 [==============================] - 13s 966ms/step - loss: 0.0361 - accuracy: 1.0000\n",
      "Epoch 17/20\n",
      "13/13 [==============================] - 13s 978ms/step - loss: 0.1676 - accuracy: 0.9502\n",
      "Epoch 18/20\n",
      "13/13 [==============================] - 12s 932ms/step - loss: 0.0276 - accuracy: 1.0000\n",
      "Epoch 19/20\n",
      "13/13 [==============================] - 12s 941ms/step - loss: 0.1614 - accuracy: 0.9465\n",
      "Epoch 20/20\n",
      "13/13 [==============================] - 12s 898ms/step - loss: 0.0395 - accuracy: 0.9913\n"
     ]
    },
    {
     "data": {
      "text/plain": [
       "<keras.callbacks.History at 0x79392d73c9a0>"
      ]
     },
     "execution_count": 39,
     "metadata": {},
     "output_type": "execute_result"
    }
   ],
   "source": [
    "model.fit(train_data2,epochs=20)"
   ]
  },
  {
   "cell_type": "code",
   "execution_count": 41,
   "metadata": {
    "execution": {
     "iopub.execute_input": "2023-10-27T11:29:43.085351Z",
     "iopub.status.busy": "2023-10-27T11:29:43.084622Z",
     "iopub.status.idle": "2023-10-27T11:29:43.202331Z",
     "shell.execute_reply": "2023-10-27T11:29:43.201547Z",
     "shell.execute_reply.started": "2023-10-27T11:29:43.085317Z"
    }
   },
   "outputs": [],
   "source": [
    "model.save('crop_prediction_vgg161.h5')"
   ]
  },
  {
   "cell_type": "markdown",
   "metadata": {},
   "source": [
    "# ResNet"
   ]
  },
  {
   "cell_type": "code",
   "execution_count": 24,
   "metadata": {
    "execution": {
     "iopub.execute_input": "2023-10-27T10:47:29.112309Z",
     "iopub.status.busy": "2023-10-27T10:47:29.111960Z",
     "iopub.status.idle": "2023-10-27T10:47:31.475498Z",
     "shell.execute_reply": "2023-10-27T10:47:31.474711Z",
     "shell.execute_reply.started": "2023-10-27T10:47:29.112281Z"
    }
   },
   "outputs": [
    {
     "name": "stdout",
     "output_type": "stream",
     "text": [
      "Downloading data from https://storage.googleapis.com/tensorflow/keras-applications/resnet/resnet50_weights_tf_dim_ordering_tf_kernels_notop.h5\n",
      "94765736/94765736 [==============================] - 0s 0us/step\n"
     ]
    }
   ],
   "source": [
    "#Resnet\n",
    "rn=ResNet50(include_top=False,input_shape=(224,224,3))\n",
    "for layer in rn.layers:\n",
    "    layer.trainable=False\n",
    "final_layer=Dense(5,activation='softmax')(Flatten()(rn.output))"
   ]
  },
  {
   "cell_type": "code",
   "execution_count": 25,
   "metadata": {
    "execution": {
     "iopub.execute_input": "2023-10-27T10:48:41.020927Z",
     "iopub.status.busy": "2023-10-27T10:48:41.020120Z",
     "iopub.status.idle": "2023-10-27T10:48:41.050030Z",
     "shell.execute_reply": "2023-10-27T10:48:41.049143Z",
     "shell.execute_reply.started": "2023-10-27T10:48:41.020892Z"
    }
   },
   "outputs": [],
   "source": [
    "modelrn=Model(inputs=rn.input,outputs=final_layer)\n",
    "modelrn.compile(loss='categorical_crossentropy',metrics=['accuracy'])"
   ]
  },
  {
   "cell_type": "code",
   "execution_count": 40,
   "metadata": {
    "execution": {
     "iopub.execute_input": "2023-10-27T11:29:06.489939Z",
     "iopub.status.busy": "2023-10-27T11:29:06.489644Z",
     "iopub.status.idle": "2023-10-27T11:29:39.348864Z",
     "shell.execute_reply": "2023-10-27T11:29:39.347839Z",
     "shell.execute_reply.started": "2023-10-27T11:29:06.489913Z"
    }
   },
   "outputs": [
    {
     "name": "stdout",
     "output_type": "stream",
     "text": [
      "Epoch 1/10\n",
      "4/4 [==============================] - 3s 668ms/step - loss: 10.4590 - accuracy: 0.2488\n",
      "Epoch 2/10\n",
      "4/4 [==============================] - 3s 636ms/step - loss: 10.0499 - accuracy: 0.2040\n",
      "Epoch 3/10\n",
      "4/4 [==============================] - 3s 670ms/step - loss: 11.1464 - accuracy: 0.1990\n",
      "Epoch 4/10\n",
      "4/4 [==============================] - 3s 701ms/step - loss: 9.3376 - accuracy: 0.2239\n",
      "Epoch 5/10\n",
      "4/4 [==============================] - 3s 992ms/step - loss: 10.1351 - accuracy: 0.2139\n",
      "Epoch 6/10\n",
      "4/4 [==============================] - 3s 699ms/step - loss: 8.6179 - accuracy: 0.2338\n",
      "Epoch 7/10\n",
      "4/4 [==============================] - 3s 686ms/step - loss: 6.6408 - accuracy: 0.2886\n",
      "Epoch 8/10\n",
      "4/4 [==============================] - 3s 709ms/step - loss: 6.7213 - accuracy: 0.2687\n",
      "Epoch 9/10\n",
      "4/4 [==============================] - 3s 683ms/step - loss: 9.1026 - accuracy: 0.2388\n",
      "Epoch 10/10\n",
      "4/4 [==============================] - 3s 646ms/step - loss: 10.9610 - accuracy: 0.2090\n"
     ]
    },
    {
     "data": {
      "text/plain": [
       "<keras.callbacks.History at 0x793852dfcac0>"
      ]
     },
     "execution_count": 40,
     "metadata": {},
     "output_type": "execute_result"
    }
   ],
   "source": [
    "modelrn.fit(train_data,epochs=10)"
   ]
  },
  {
   "cell_type": "code",
   "execution_count": 42,
   "metadata": {
    "execution": {
     "iopub.execute_input": "2023-10-27T11:29:53.509176Z",
     "iopub.status.busy": "2023-10-27T11:29:53.508835Z",
     "iopub.status.idle": "2023-10-27T11:33:00.775833Z",
     "shell.execute_reply": "2023-10-27T11:33:00.774858Z",
     "shell.execute_reply.started": "2023-10-27T11:29:53.509147Z"
    }
   },
   "outputs": [
    {
     "name": "stdout",
     "output_type": "stream",
     "text": [
      "Epoch 1/15\n",
      "13/13 [==============================] - 13s 962ms/step - loss: 7.6389 - accuracy: 0.2550\n",
      "Epoch 2/15\n",
      "13/13 [==============================] - 12s 922ms/step - loss: 9.1761 - accuracy: 0.2351\n",
      "Epoch 3/15\n",
      "13/13 [==============================] - 13s 960ms/step - loss: 8.7184 - accuracy: 0.2338\n",
      "Epoch 4/15\n",
      "13/13 [==============================] - 12s 969ms/step - loss: 8.6756 - accuracy: 0.2351\n",
      "Epoch 5/15\n",
      "13/13 [==============================] - 12s 944ms/step - loss: 7.7383 - accuracy: 0.2525\n",
      "Epoch 6/15\n",
      "13/13 [==============================] - 13s 991ms/step - loss: 7.5202 - accuracy: 0.2786\n",
      "Epoch 7/15\n",
      "13/13 [==============================] - 12s 943ms/step - loss: 7.6528 - accuracy: 0.2525\n",
      "Epoch 8/15\n",
      "13/13 [==============================] - 12s 926ms/step - loss: 7.3570 - accuracy: 0.2811\n",
      "Epoch 9/15\n",
      "13/13 [==============================] - 12s 933ms/step - loss: 8.3168 - accuracy: 0.2687\n",
      "Epoch 10/15\n",
      "13/13 [==============================] - 13s 956ms/step - loss: 7.2390 - accuracy: 0.3035\n",
      "Epoch 11/15\n",
      "13/13 [==============================] - 13s 959ms/step - loss: 7.6250 - accuracy: 0.2786\n",
      "Epoch 12/15\n",
      "13/13 [==============================] - 12s 958ms/step - loss: 8.1282 - accuracy: 0.2674\n",
      "Epoch 13/15\n",
      "13/13 [==============================] - 12s 924ms/step - loss: 7.3029 - accuracy: 0.2836\n",
      "Epoch 14/15\n",
      "13/13 [==============================] - 12s 938ms/step - loss: 6.2414 - accuracy: 0.3308\n",
      "Epoch 15/15\n",
      "13/13 [==============================] - 12s 920ms/step - loss: 7.3352 - accuracy: 0.2836\n"
     ]
    },
    {
     "data": {
      "text/plain": [
       "<keras.callbacks.History at 0x79392ddab910>"
      ]
     },
     "execution_count": 42,
     "metadata": {},
     "output_type": "execute_result"
    }
   ],
   "source": [
    "modelrn.fit(train_data2,epochs=15)"
   ]
  },
  {
   "cell_type": "code",
   "execution_count": 46,
   "metadata": {
    "execution": {
     "iopub.execute_input": "2023-10-27T11:37:14.575379Z",
     "iopub.status.busy": "2023-10-27T11:37:14.575086Z",
     "iopub.status.idle": "2023-10-27T11:37:15.085245Z",
     "shell.execute_reply": "2023-10-27T11:37:15.084113Z",
     "shell.execute_reply.started": "2023-10-27T11:37:14.575353Z"
    }
   },
   "outputs": [],
   "source": [
    "modelrn.save('crop_prediction_resnet1.h5')"
   ]
  },
  {
   "cell_type": "markdown",
   "metadata": {},
   "source": [
    "# Inception"
   ]
  },
  {
   "cell_type": "code",
   "execution_count": 30,
   "metadata": {
    "execution": {
     "iopub.execute_input": "2023-10-27T10:55:13.719175Z",
     "iopub.status.busy": "2023-10-27T10:55:13.718693Z",
     "iopub.status.idle": "2023-10-27T10:55:16.999347Z",
     "shell.execute_reply": "2023-10-27T10:55:16.998514Z",
     "shell.execute_reply.started": "2023-10-27T10:55:13.719144Z"
    }
   },
   "outputs": [
    {
     "name": "stdout",
     "output_type": "stream",
     "text": [
      "Downloading data from https://storage.googleapis.com/tensorflow/keras-applications/inception_v3/inception_v3_weights_tf_dim_ordering_tf_kernels_notop.h5\n",
      "87910968/87910968 [==============================] - 0s 0us/step\n"
     ]
    }
   ],
   "source": [
    "#Inception\n",
    "inc=InceptionV3(include_top=False,input_shape=(224,224,3))\n",
    "for layer in inc.layers:\n",
    "    layer.trainable=False\n",
    "final_layer=Dense(5,activation='softmax')(Flatten()(inc.output))"
   ]
  },
  {
   "cell_type": "code",
   "execution_count": 31,
   "metadata": {
    "execution": {
     "iopub.execute_input": "2023-10-27T10:55:59.096962Z",
     "iopub.status.busy": "2023-10-27T10:55:59.096586Z",
     "iopub.status.idle": "2023-10-27T10:55:59.138235Z",
     "shell.execute_reply": "2023-10-27T10:55:59.137262Z",
     "shell.execute_reply.started": "2023-10-27T10:55:59.096934Z"
    }
   },
   "outputs": [],
   "source": [
    "modelinc=Model(inputs=inc.input,outputs=final_layer)\n",
    "modelinc.compile(loss='categorical_crossentropy',metrics=['accuracy'])"
   ]
  },
  {
   "cell_type": "code",
   "execution_count": 32,
   "metadata": {
    "execution": {
     "iopub.execute_input": "2023-10-27T10:56:20.880901Z",
     "iopub.status.busy": "2023-10-27T10:56:20.880499Z",
     "iopub.status.idle": "2023-10-27T10:56:45.405494Z",
     "shell.execute_reply": "2023-10-27T10:56:45.404649Z",
     "shell.execute_reply.started": "2023-10-27T10:56:20.880859Z"
    }
   },
   "outputs": [
    {
     "name": "stdout",
     "output_type": "stream",
     "text": [
      "Epoch 1/5\n",
      "4/4 [==============================] - 11s 811ms/step - loss: 43.1287 - accuracy: 0.2040\n",
      "Epoch 2/5\n",
      "4/4 [==============================] - 3s 676ms/step - loss: 13.2391 - accuracy: 0.3184\n",
      "Epoch 3/5\n",
      "4/4 [==============================] - 3s 1s/step - loss: 10.9004 - accuracy: 0.4478\n",
      "Epoch 4/5\n",
      "4/4 [==============================] - 3s 703ms/step - loss: 7.3189 - accuracy: 0.4776\n",
      "Epoch 5/5\n",
      "4/4 [==============================] - 3s 981ms/step - loss: 3.8627 - accuracy: 0.6070\n"
     ]
    },
    {
     "data": {
      "text/plain": [
       "<keras.callbacks.History at 0x7938a036bdc0>"
      ]
     },
     "execution_count": 32,
     "metadata": {},
     "output_type": "execute_result"
    }
   ],
   "source": [
    "modelinc.fit(train_data,epochs=5)"
   ]
  },
  {
   "cell_type": "code",
   "execution_count": 44,
   "metadata": {
    "execution": {
     "iopub.execute_input": "2023-10-27T11:33:01.234287Z",
     "iopub.status.busy": "2023-10-27T11:33:01.233632Z",
     "iopub.status.idle": "2023-10-27T11:37:14.018797Z",
     "shell.execute_reply": "2023-10-27T11:37:14.017693Z",
     "shell.execute_reply.started": "2023-10-27T11:33:01.234250Z"
    }
   },
   "outputs": [
    {
     "name": "stdout",
     "output_type": "stream",
     "text": [
      "Epoch 1/20\n",
      "13/13 [==============================] - 13s 1s/step - loss: 5.2611 - accuracy: 0.6020\n",
      "Epoch 2/20\n",
      "13/13 [==============================] - 12s 956ms/step - loss: 3.5392 - accuracy: 0.6741\n",
      "Epoch 3/20\n",
      "13/13 [==============================] - 13s 966ms/step - loss: 2.0305 - accuracy: 0.7910\n",
      "Epoch 4/20\n",
      "13/13 [==============================] - 12s 931ms/step - loss: 3.3542 - accuracy: 0.7114\n",
      "Epoch 5/20\n",
      "13/13 [==============================] - 12s 884ms/step - loss: 1.9185 - accuracy: 0.8308\n",
      "Epoch 6/20\n",
      "13/13 [==============================] - 12s 891ms/step - loss: 1.8440 - accuracy: 0.7910\n",
      "Epoch 7/20\n",
      "13/13 [==============================] - 12s 880ms/step - loss: 1.2025 - accuracy: 0.8744\n",
      "Epoch 8/20\n",
      "13/13 [==============================] - 12s 925ms/step - loss: 0.8823 - accuracy: 0.8905\n",
      "Epoch 9/20\n",
      "13/13 [==============================] - 12s 921ms/step - loss: 1.8740 - accuracy: 0.8595\n",
      "Epoch 10/20\n",
      "13/13 [==============================] - 12s 920ms/step - loss: 0.1298 - accuracy: 0.9739\n",
      "Epoch 11/20\n",
      "13/13 [==============================] - 12s 927ms/step - loss: 2.4230 - accuracy: 0.8669\n",
      "Epoch 12/20\n",
      "13/13 [==============================] - 12s 971ms/step - loss: 0.2297 - accuracy: 0.9689\n",
      "Epoch 13/20\n",
      "13/13 [==============================] - 12s 903ms/step - loss: 2.9315 - accuracy: 0.8545\n",
      "Epoch 14/20\n",
      "13/13 [==============================] - 12s 918ms/step - loss: 0.0567 - accuracy: 0.9851\n",
      "Epoch 15/20\n",
      "13/13 [==============================] - 12s 983ms/step - loss: 2.0061 - accuracy: 0.8905\n",
      "Epoch 16/20\n",
      "13/13 [==============================] - 12s 914ms/step - loss: 0.3675 - accuracy: 0.9478\n",
      "Epoch 17/20\n",
      "13/13 [==============================] - 12s 904ms/step - loss: 0.0607 - accuracy: 0.9851\n",
      "Epoch 18/20\n",
      "13/13 [==============================] - 12s 924ms/step - loss: 3.0102 - accuracy: 0.8234\n",
      "Epoch 19/20\n",
      "13/13 [==============================] - 12s 910ms/step - loss: 0.0436 - accuracy: 0.9938\n",
      "Epoch 20/20\n",
      "13/13 [==============================] - 13s 991ms/step - loss: 0.1467 - accuracy: 0.9739\n"
     ]
    },
    {
     "data": {
      "text/plain": [
       "<keras.callbacks.History at 0x793879c9c940>"
      ]
     },
     "execution_count": 44,
     "metadata": {},
     "output_type": "execute_result"
    }
   ],
   "source": [
    "modelinc.fit(train_data2,epochs=20)"
   ]
  },
  {
   "cell_type": "code",
   "execution_count": 45,
   "metadata": {
    "execution": {
     "iopub.execute_input": "2023-10-27T11:37:14.021482Z",
     "iopub.status.busy": "2023-10-27T11:37:14.021157Z",
     "iopub.status.idle": "2023-10-27T11:37:14.573872Z",
     "shell.execute_reply": "2023-10-27T11:37:14.573041Z",
     "shell.execute_reply.started": "2023-10-27T11:37:14.021453Z"
    }
   },
   "outputs": [],
   "source": [
    "modelinc.save('crop_prediction_inc1.h5')"
   ]
  },
  {
   "cell_type": "code",
   "execution_count": 36,
   "metadata": {
    "execution": {
     "iopub.execute_input": "2023-10-27T11:11:02.588969Z",
     "iopub.status.busy": "2023-10-27T11:11:02.588196Z",
     "iopub.status.idle": "2023-10-27T11:11:02.595363Z",
     "shell.execute_reply": "2023-10-27T11:11:02.594384Z",
     "shell.execute_reply.started": "2023-10-27T11:11:02.588932Z"
    }
   },
   "outputs": [
    {
     "data": {
      "text/plain": [
       "{'jute': 0, 'maize': 1, 'rice': 2, 'sugarcane': 3, 'wheat': 4}"
      ]
     },
     "execution_count": 36,
     "metadata": {},
     "output_type": "execute_result"
    }
   ],
   "source": [
    "train_data.class_indices"
   ]
  },
  {
   "cell_type": "code",
   "execution_count": null,
   "metadata": {},
   "outputs": [],
   "source": []
  }
 ],
 "metadata": {
  "kernelspec": {
   "display_name": "Python 3 (ipykernel)",
   "language": "python",
   "name": "python3"
  },
  "language_info": {
   "codemirror_mode": {
    "name": "ipython",
    "version": 3
   },
   "file_extension": ".py",
   "mimetype": "text/x-python",
   "name": "python",
   "nbconvert_exporter": "python",
   "pygments_lexer": "ipython3",
   "version": "3.11.5"
  }
 },
 "nbformat": 4,
 "nbformat_minor": 4
}
